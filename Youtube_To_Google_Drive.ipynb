{
  "nbformat": 4,
  "nbformat_minor": 0,
  "metadata": {
    "colab": {
      "provenance": [],
      "authorship_tag": "ABX9TyNTtIBj43BGvfXJiHDIOgaW",
      "include_colab_link": true
    },
    "kernelspec": {
      "name": "python3",
      "display_name": "Python 3"
    },
    "language_info": {
      "name": "python"
    }
  },
  "cells": [
    {
      "cell_type": "markdown",
      "metadata": {
        "id": "view-in-github",
        "colab_type": "text"
      },
      "source": [
        "<a href=\"https://colab.research.google.com/github/akhi07rx/Youtube-To-Google-Drive/blob/main/Youtube_To_Google_Drive.ipynb\" target=\"_parent\"><img src=\"https://colab.research.google.com/assets/colab-badge.svg\" alt=\"Open In Colab\"/></a>"
      ]
    },
    {
      "cell_type": "code",
      "execution_count": null,
      "metadata": {
        "id": "pUafGN1xIfww"
      },
      "outputs": [],
      "source": [
        "!pip install pytube"
      ]
    },
    {
      "cell_type": "code",
      "source": [
        "from tqdm import tqdm\n",
        "import requests\n",
        "from google.colab import drive\n",
        "import os\n",
        "from urllib.parse import urlparse, unquote\n",
        "import os.path\n",
        "import sys\n",
        "import pytube\n",
        "\n",
        "drive.mount('/content/drive')\n",
        "\n",
        "# Define the destination folder in Google Drive\n",
        "destination_folder = '/content/drive/MyDrive/DOWNLOADS 02/'\n",
        "\n",
        "# Create the destination folder if it doesn't exist\n",
        "if not os.path.exists(destination_folder):\n",
        "    os.makedirs(destination_folder)\n",
        "\n",
        "# Function to download YouTube video\n",
        "def download_youtube_video(url, destination_folder):\n",
        "    try:\n",
        "        youtube = pytube.YouTube(url)\n",
        "        video = youtube.streams.first()\n",
        "        video.download(destination_folder)\n",
        "        print(f\"Video '{video.title}' downloaded successfully to '{destination_folder}'.\\n\")\n",
        "    except Exception as e:\n",
        "        print(f\"An error occurred: {str(e)}\")\n",
        "\n",
        "try:\n",
        "    while True:\n",
        "        try:\n",
        "            user_input = input(\"\\n\\nEnter the download link (or 'exit' to quit): \")\n",
        "        except KeyboardInterrupt:\n",
        "            print(\"\\nKeyboard interrupt detected. Exiting the program.\")\n",
        "            break\n",
        "\n",
        "        if user_input.lower() == 'exit':\n",
        "            break\n",
        "\n",
        "        # Check if the input is a YouTube link\n",
        "        if \"youtube.com\" in user_input or \"youtu.be\" in user_input:\n",
        "            download_youtube_video(user_input, destination_folder)\n",
        "            continue\n",
        "\n",
        "        try:\n",
        "            response = requests.get(user_input, stream=True)\n",
        "            response.raise_for_status()\n",
        "        except requests.exceptions.MissingSchema:\n",
        "            print(\"You have entered a wrong command. Please enter again.\\n\")\n",
        "            continue\n",
        "\n",
        "        file_size = int(response.headers.get('content-length', 0))\n",
        "\n",
        "        file_size_mb = file_size / (1024 ** 2)\n",
        "        file_size_gb = file_size / (1024 ** 3)\n",
        "\n",
        "        file_size_str = f\"{file_size_mb:.2f} MB / {file_size_gb:.2f} GB\"\n",
        "\n",
        "        progress_bar = tqdm(total=file_size, unit='B', unit_scale=True, leave=True)\n",
        "\n",
        "        parsed_url = urlparse(user_input)\n",
        "        file_name = unquote(os.path.basename(parsed_url.path))\n",
        "\n",
        "        file_path = os.path.join(destination_folder, file_name)\n",
        "\n",
        "        with open(file_path, 'wb') as file:\n",
        "            for chunk in response.iter_content(chunk_size=8192):\n",
        "                if chunk:\n",
        "                    file.write(chunk)\n",
        "                    progress_bar.update(len(chunk))\n",
        "                    sys.stdout.flush()\n",
        "\n",
        "        progress_bar.close()\n",
        "\n",
        "        print()\n",
        "        print(f\"File name: {file_name}\")\n",
        "        print(f\"File size: {file_size_str}\")\n",
        "        print(f\"File '{file_name}' uploaded successfully to '{destination_folder}'.\\n\")\n",
        "\n",
        "except Exception as e:\n",
        "    print(f\"An error occurred: {str(e)}\")\n",
        "    print(\"Exiting the program.\")\n",
        "\n",
        "print(\"Exiting the program.\")\n"
      ],
      "metadata": {
        "id": "s6L01xuGIhMn"
      },
      "execution_count": null,
      "outputs": []
    }
  ]
}