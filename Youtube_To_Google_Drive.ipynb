{
  "cells": [
    {
      "attachments": {},
      "cell_type": "markdown",
      "metadata": {
        "colab_type": "text",
        "id": "view-in-github"
      },
      "source": [
        "<a href=\"https://colab.research.google.com/github/akhi07rx/Youtube-To-Google-Drive/blob/main/Youtube_To_Google_Drive.ipynb\" target=\"_parent\"><img src=\"https://colab.research.google.com/assets/colab-badge.svg\" alt=\"Open In Colab\"/></a>"
      ]
    },
    {
      "cell_type": "code",
      "execution_count": null,
      "metadata": {
        "id": "pUafGN1xIfww"
      },
      "outputs": [],
      "source": [
        "!pip install pytube"
      ]
    },
    {
      "cell_type": "code",
      "execution_count": null,
      "metadata": {
        "id": "s6L01xuGIhMn"
      },
      "outputs": [],
      "source": [
        "from pytube import YouTube\n",
        "import sys\n",
        "\n",
        "# Define the destination folder\n",
        "destination_folder = '/content/drive/MyDrive/DOWNLOADS 02/'\n",
        "\n",
        "# Create the destination folder if it doesn't exist\n",
        "if not os.path.exists(destination_folder):\n",
        "    os.makedirs(destination_folder)\n",
        "\n",
        "def download_youtube_video(url, destination_folder):\n",
        "    try:\n",
        "        youtube = YouTube(url)\n",
        "\n",
        "        # Get the available video streams\n",
        "        streams = youtube.streams.filter(type='video', progressive=True).order_by('resolution')\n",
        "\n",
        "        # Print available video qualities\n",
        "        print(\"\\nAvailable video qualities:\")\n",
        "        for i, stream in enumerate(streams, start=1):\n",
        "            print(f\"{i}. Resolution: {stream.resolution}, Format: {stream.mime_type}\")\n",
        "\n",
        "        # Prompt the user to select the video quality\n",
        "        selected_option = None\n",
        "        while selected_option is None:\n",
        "            user_input = input(\"\\nEnter the number of the desired video quality (or 'exit' to go back to URL menu): \")\n",
        "\n",
        "            if user_input.lower() == 'exit':\n",
        "                return\n",
        "\n",
        "            if user_input.lower() == 'quit':\n",
        "                sys.exit(\"Exiting the program.\")\n",
        "\n",
        "            if user_input.isdigit() and int(user_input) in range(1, len(streams) + 1):\n",
        "                # Retrieve the selected stream\n",
        "                selected_stream = streams[int(user_input) - 1]\n",
        "                selected_option = user_input\n",
        "            else:\n",
        "                print(\"Invalid input. Please enter a valid number, 'exit' to go back to URL menu, or 'quit' to exit the program.\")\n",
        "\n",
        "        file_name = f\"{youtube.title} ({selected_stream.resolution})\"\n",
        "        file_path = os.path.join(destination_folder, file_name)\n",
        "        selected_stream.download(output_path=destination_folder, filename=file_name)\n",
        "\n",
        "        print(f\"Video '{youtube.title}' downloaded successfully to '{file_path}'.\\n\")\n",
        "\n",
        "    except Exception as e:\n",
        "        print(f\"An error occurred: {str(e)}\")\n",
        "\n",
        "\n",
        "while True:\n",
        "\n",
        "    user_input = input(\"\\nEnter the YouTube video URL (or 'exit' to go back to URL menu, or 'quit' to exit the program): \")\n",
        "\n",
        "    if user_input.lower() == 'exit':\n",
        "        continue\n",
        "\n",
        "    if user_input.lower() == 'quit':\n",
        "        print(\"Exiting the program.\")\n",
        "        sys.exit()\n",
        "\n",
        "    download_youtube_video(user_input, destination_folder)\n"
      ]
    }
  ],
  "metadata": {
    "colab": {
      "authorship_tag": "ABX9TyNTtIBj43BGvfXJiHDIOgaW",
      "include_colab_link": true,
      "provenance": []
    },
    "kernelspec": {
      "display_name": "Python 3",
      "name": "python3"
    },
    "language_info": {
      "name": "python"
    }
  },
  "nbformat": 4,
  "nbformat_minor": 0
}
